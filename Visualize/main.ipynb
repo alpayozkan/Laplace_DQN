{
 "cells": [
  {
   "cell_type": "code",
   "execution_count": 1,
   "metadata": {},
   "outputs": [],
   "source": [
    "import argparse\n",
    "import copy\n",
    "import random\n",
    "import tqdm\n",
    "import json\n",
    "\n",
    "import gym\n",
    "import torch\n",
    "\n",
    "import memory\n",
    "from memory import Transition\n",
    "import networks\n",
    "from utils import np_to_unsq_tensor, squeeze_np\n",
    "from experiment_utils import Plot"
   ]
  },
  {
   "cell_type": "code",
   "execution_count": 9,
   "metadata": {},
   "outputs": [
    {
     "name": "stderr",
     "output_type": "stream",
     "text": [
      "/Users/alpayozkan/opt/anaconda3/envs/distrl_proj/lib/python3.11/site-packages/gym/envs/registration.py:555: UserWarning: \u001b[33mWARN: The environment CartPole-v0 is out of date. You should consider upgrading to version `v1`.\u001b[0m\n",
      "  logger.warn(\n"
     ]
    }
   ],
   "source": [
    "# env_name = 'Pendulum-v1'\n",
    "env_name = 'CartPole-v0'\n",
    "env = gym.make(env_name, render_mode=\"human\")\n",
    "state_dim = env.observation_space.shape[0]"
   ]
  },
  {
   "cell_type": "code",
   "execution_count": 10,
   "metadata": {},
   "outputs": [],
   "source": [
    "act_dim = env.action_space"
   ]
  },
  {
   "cell_type": "code",
   "execution_count": 11,
   "metadata": {},
   "outputs": [
    {
     "data": {
      "text/plain": [
       "()"
      ]
     },
     "execution_count": 11,
     "metadata": {},
     "output_type": "execute_result"
    }
   ],
   "source": [
    "env.action_space.shape"
   ]
  },
  {
   "cell_type": "code",
   "execution_count": null,
   "metadata": {},
   "outputs": [],
   "source": []
  },
  {
   "cell_type": "code",
   "execution_count": 7,
   "metadata": {},
   "outputs": [],
   "source": [
    "from collections import OrderedDict\n"
   ]
  },
  {
   "cell_type": "code",
   "execution_count": null,
   "metadata": {},
   "outputs": [],
   "source": []
  },
  {
   "cell_type": "code",
   "execution_count": 8,
   "metadata": {},
   "outputs": [],
   "source": [
    "n_timesteps = 50000.0\n",
    "hyperparams = \\\n",
    "OrderedDict([('batch_size', 64),\n",
    "             ('buffer_size', 100000),\n",
    "             ('exploration_final_eps', 0.04),\n",
    "             ('exploration_fraction', 0.16),\n",
    "             ('gamma', 0.99),\n",
    "             ('gradient_steps', 128),\n",
    "             ('learning_rate', 0.0023),\n",
    "             ('learning_starts', 1000),\n",
    "            #  ('n_timesteps', 50000.0),\n",
    "             ('policy', 'MlpPolicy'),\n",
    "             ('policy_kwargs', 'dict(net_arch=[256, 256], n_quantiles=10)'),\n",
    "             ('target_update_interval', 10),\n",
    "             ('train_freq', 256),\n",
    "            #  ('normalize', False)\n",
    "             ])"
   ]
  },
  {
   "cell_type": "code",
   "execution_count": null,
   "metadata": {},
   "outputs": [],
   "source": []
  },
  {
   "cell_type": "code",
   "execution_count": 9,
   "metadata": {},
   "outputs": [
    {
     "ename": "KeyError",
     "evalue": "'n_timesteps'",
     "output_type": "error",
     "traceback": [
      "\u001b[0;31m---------------------------------------------------------------------------\u001b[0m",
      "\u001b[0;31mKeyError\u001b[0m                                  Traceback (most recent call last)",
      "Cell \u001b[0;32mIn[9], line 1\u001b[0m\n\u001b[0;32m----> 1\u001b[0m \u001b[43mhyperparams\u001b[49m\u001b[43m[\u001b[49m\u001b[38;5;124;43m'\u001b[39;49m\u001b[38;5;124;43mn_timesteps\u001b[39;49m\u001b[38;5;124;43m'\u001b[39;49m\u001b[43m]\u001b[49m\n",
      "\u001b[0;31mKeyError\u001b[0m: 'n_timesteps'"
     ]
    }
   ],
   "source": [
    "hyperparams['n_timesteps']"
   ]
  },
  {
   "cell_type": "code",
   "execution_count": 10,
   "metadata": {},
   "outputs": [],
   "source": [
    "n_timesteps = 50000.0\n",
    "hyperparams = \\\n",
    "OrderedDict([('batch_size', 64),\n",
    "             ('buffer_size', 100000),\n",
    "             ('exploration_final_eps', 0.04),\n",
    "             ('exploration_fraction', 0.16),\n",
    "             ('gamma', 0.99),\n",
    "             ('gradient_steps', 128),\n",
    "             ('learning_rate', 0.0023),\n",
    "             ('learning_starts', 1000),\n",
    "             ('n_timesteps', 50000.0),\n",
    "             ('policy', 'MlpPolicy'),\n",
    "             ('policy_kwargs', 'dict(net_arch=[256, 256], n_quantiles=10)'),\n",
    "             ('target_update_interval', 10),\n",
    "             ('train_freq', 256),\n",
    "             ('normalize', False)\n",
    "             ])"
   ]
  },
  {
   "cell_type": "code",
   "execution_count": 11,
   "metadata": {},
   "outputs": [
    {
     "data": {
      "text/plain": [
       "OrderedDict([('batch_size', 64),\n",
       "             ('buffer_size', 100000),\n",
       "             ('exploration_final_eps', 0.04),\n",
       "             ('exploration_fraction', 0.16),\n",
       "             ('gamma', 0.99),\n",
       "             ('gradient_steps', 128),\n",
       "             ('learning_rate', 0.0023),\n",
       "             ('learning_starts', 1000),\n",
       "             ('n_timesteps', 50000.0),\n",
       "             ('policy', 'MlpPolicy'),\n",
       "             ('policy_kwargs', 'dict(net_arch=[256, 256], n_quantiles=10)'),\n",
       "             ('target_update_interval', 10),\n",
       "             ('train_freq', 256),\n",
       "             ('normalize', False)])"
      ]
     },
     "execution_count": 11,
     "metadata": {},
     "output_type": "execute_result"
    }
   ],
   "source": [
    "hyperparams"
   ]
  },
  {
   "cell_type": "code",
   "execution_count": 13,
   "metadata": {},
   "outputs": [
    {
     "name": "stdout",
     "output_type": "stream",
     "text": [
      "Using cpu device\n",
      "Wrapping the env with a `Monitor` wrapper\n",
      "Wrapping the env in a DummyVecEnv.\n"
     ]
    }
   ],
   "source": [
    "import gymnasium as gym\n",
    "\n",
    "from sb3_contrib import QRDQN\n",
    "\n",
    "env = gym.make(\"CartPole-v1\", render_mode=\"human\")\n",
    "\n",
    "policy_kwargs = dict(n_quantiles=50)\n",
    "model = QRDQN(\n",
    "              hyperparams['policy'], \n",
    "              env,\n",
    "              batch_size=hyperparams['batch_size'],\n",
    "              buffer_size=hyperparams['buffer_size'],\n",
    "              exploration_final_eps=hyperparams['exploration_final_eps'],\n",
    "              exploration_fraction=hyperparams['exploration_fraction'],\n",
    "              gamma=hyperparams['gamma'],\n",
    "              gradient_steps=hyperparams['gradient_steps'],\n",
    "              learning_rate=hyperparams['learning_rate'],\n",
    "              learning_starts=hyperparams['learning_starts'],\n",
    "              \n",
    "              policy_kwargs=eval(hyperparams['policy_kwargs']),\n",
    "              target_update_interval=hyperparams['target_update_interval'],\n",
    "              train_freq=hyperparams['train_freq'],\n",
    "              verbose=1\n",
    "              )\n",
    "\n",
    "\n"
   ]
  },
  {
   "cell_type": "code",
   "execution_count": 35,
   "metadata": {},
   "outputs": [
    {
     "name": "stdout",
     "output_type": "stream",
     "text": [
      "tensor([0, 1, 2, 3]) <class 'torch.Tensor'>\n"
     ]
    }
   ],
   "source": [
    "import torch\n",
    "\n",
    "test = torch.cat([torch.tensor([i]) for i in range(4)])\n",
    "print(test, type(test))"
   ]
  },
  {
   "cell_type": "code",
   "execution_count": 43,
   "metadata": {},
   "outputs": [
    {
     "name": "stdout",
     "output_type": "stream",
     "text": [
      "torch.Size([10])\n",
      "tensor([0.5000, 1.5000, 2.5000, 3.5000, 4.5000, 5.5000, 6.5000, 7.5000, 8.5000])\n"
     ]
    }
   ],
   "source": [
    "sensitivities = torch.arange(0, 10, 1)\n",
    "avg_sensitivities = torch.tensor([torch.true_divide(sensitivities[i] + sensitivities[i+1], 2) for i in range(sensitivities.shape[0]-1)])\n",
    "print(sensitivities.shape)\n",
    "print(avg_sensitivities)"
   ]
  },
  {
   "cell_type": "code",
   "execution_count": 48,
   "metadata": {},
   "outputs": [
    {
     "name": "stdout",
     "output_type": "stream",
     "text": [
      "torch.Size([32, 2]) tensor([[40.5000, 40.5000],\n",
      "        [40.5000, 40.5000],\n",
      "        [40.5000, 40.5000],\n",
      "        [40.5000, 40.5000],\n",
      "        [40.5000, 40.5000],\n",
      "        [40.5000, 40.5000],\n",
      "        [40.5000, 40.5000],\n",
      "        [40.5000, 40.5000],\n",
      "        [40.5000, 40.5000],\n",
      "        [40.5000, 40.5000],\n",
      "        [40.5000, 40.5000],\n",
      "        [40.5000, 40.5000],\n",
      "        [40.5000, 40.5000],\n",
      "        [40.5000, 40.5000],\n",
      "        [40.5000, 40.5000],\n",
      "        [40.5000, 40.5000],\n",
      "        [40.5000, 40.5000],\n",
      "        [40.5000, 40.5000],\n",
      "        [40.5000, 40.5000],\n",
      "        [40.5000, 40.5000],\n",
      "        [40.5000, 40.5000],\n",
      "        [40.5000, 40.5000],\n",
      "        [40.5000, 40.5000],\n",
      "        [40.5000, 40.5000],\n",
      "        [40.5000, 40.5000],\n",
      "        [40.5000, 40.5000],\n",
      "        [40.5000, 40.5000],\n",
      "        [40.5000, 40.5000],\n",
      "        [40.5000, 40.5000],\n",
      "        [40.5000, 40.5000],\n",
      "        [40.5000, 40.5000],\n",
      "        [40.5000, 40.5000]])\n"
     ]
    }
   ],
   "source": [
    "z = torch.arange(10, 0, -1).unsqueeze(0).unsqueeze(0).repeat(32, 2, 1)\n",
    "\n",
    "z_new = torch.sum((z[:, :, :-1] - z[:, :, 1:]) * avg_sensitivities, dim=2)\n",
    "\n",
    "print(z_new.shape, z_new)"
   ]
  },
  {
   "cell_type": "code",
   "execution_count": null,
   "metadata": {},
   "outputs": [],
   "source": [
    "model.learn(total_timesteps=hyperparams['n_timesteps'], \n",
    "            log_interval=4)\n",
    "model.save(\"qrdqn_cartpole\")\n",
    "\n",
    "del model # remove to demonstrate saving and loading\n",
    "\n",
    "model = QRDQN.load(\"qrdqn_cartpole\")\n",
    "\n",
    "obs, _ = env.reset()\n",
    "while True:\n",
    "    action, _states = model.predict(obs, deterministic=True)\n",
    "    obs, reward, terminated, truncated, info = env.step(action)\n",
    "    env.render()\n",
    "    if terminated or truncated:\n",
    "      obs, _ = env.reset()"
   ]
  },
  {
   "cell_type": "code",
   "execution_count": 42,
   "metadata": {},
   "outputs": [
    {
     "data": {
      "text/plain": [
       "{'net_arch': [256, 256], 'n_quantiles': 10}"
      ]
     },
     "execution_count": 42,
     "metadata": {},
     "output_type": "execute_result"
    }
   ],
   "source": [
    "eval(hyperparams['policy_kwargs'])"
   ]
  },
  {
   "cell_type": "code",
   "execution_count": 53,
   "metadata": {},
   "outputs": [
    {
     "name": "stdout",
     "output_type": "stream",
     "text": [
      "tensor([ 1.8049, -0.3140, -0.1012,  0.4776,  2.0000])\n"
     ]
    }
   ],
   "source": [
    "t1 = torch.randn(4)\n",
    "t2 = torch.tensor([2])\n",
    "\n",
    "t_cat = torch.cat((t1, t2))\n",
    "print(t_cat)"
   ]
  },
  {
   "cell_type": "code",
   "execution_count": 57,
   "metadata": {},
   "outputs": [
    {
     "name": "stdout",
     "output_type": "stream",
     "text": [
      "tensor([0.9900])\n"
     ]
    }
   ],
   "source": [
    "import numpy as np\n",
    "n_gammas = 1\n",
    "\n",
    "\n",
    "# Following theoretical results we want gammas to be equidistant in the 1/(log(gamma)) space\n",
    "start = 1 / np.log(0.99)  \n",
    "end = 1 / np.log(0.99)   \n",
    "gammas = torch.exp(torch.true_divide(1, torch.linspace(start, end, n_gammas)))\n",
    "\n",
    "print(gammas)"
   ]
  },
  {
   "cell_type": "code",
   "execution_count": null,
   "metadata": {},
   "outputs": [],
   "source": []
  },
  {
   "cell_type": "code",
   "execution_count": 26,
   "metadata": {},
   "outputs": [
    {
     "data": {
      "text/plain": [
       "OrderedDict([('batch_size', 64),\n",
       "             ('buffer_size', 100000),\n",
       "             ('exploration_final_eps', 0.04),\n",
       "             ('exploration_fraction', 0.16),\n",
       "             ('gamma', 0.99),\n",
       "             ('gradient_steps', 128),\n",
       "             ('learning_rate', 0.0023),\n",
       "             ('learning_starts', 1000),\n",
       "             ('policy', 'MlpPolicy'),\n",
       "             ('policy_kwargs', 'dict(net_arch=[256, 256], n_quantiles=10)'),\n",
       "             ('target_update_interval', 10),\n",
       "             ('train_freq', 256)])"
      ]
     },
     "execution_count": 26,
     "metadata": {},
     "output_type": "execute_result"
    }
   ],
   "source": [
    "hyperparams"
   ]
  },
  {
   "cell_type": "code",
   "execution_count": null,
   "metadata": {},
   "outputs": [],
   "source": []
  },
  {
   "cell_type": "code",
   "execution_count": 18,
   "metadata": {},
   "outputs": [
    {
     "ename": "TypeError",
     "evalue": "QRDQN.__init__() got multiple values for argument 'policy'",
     "output_type": "error",
     "traceback": [
      "\u001b[0;31m---------------------------------------------------------------------------\u001b[0m",
      "\u001b[0;31mTypeError\u001b[0m                                 Traceback (most recent call last)",
      "Cell \u001b[0;32mIn[18], line 8\u001b[0m\n\u001b[1;32m      5\u001b[0m env \u001b[38;5;241m=\u001b[39m gym\u001b[38;5;241m.\u001b[39mmake(\u001b[38;5;124m\"\u001b[39m\u001b[38;5;124mCartPole-v1\u001b[39m\u001b[38;5;124m\"\u001b[39m, render_mode\u001b[38;5;241m=\u001b[39m\u001b[38;5;124m\"\u001b[39m\u001b[38;5;124mhuman\u001b[39m\u001b[38;5;124m\"\u001b[39m)\n\u001b[1;32m      7\u001b[0m policy_kwargs \u001b[38;5;241m=\u001b[39m \u001b[38;5;28mdict\u001b[39m(n_quantiles\u001b[38;5;241m=\u001b[39m\u001b[38;5;241m50\u001b[39m)\n\u001b[0;32m----> 8\u001b[0m model \u001b[38;5;241m=\u001b[39m \u001b[43mQRDQN\u001b[49m\u001b[43m(\u001b[49m\n\u001b[1;32m      9\u001b[0m \u001b[43m   \u001b[49m\u001b[43menv\u001b[49m\u001b[43m,\u001b[49m\n\u001b[1;32m     10\u001b[0m \u001b[43m   \u001b[49m\u001b[43mbatch_size\u001b[49m\u001b[38;5;241;43m=\u001b[39;49m\u001b[38;5;241;43m64\u001b[39;49m\u001b[43m,\u001b[49m\n\u001b[1;32m     11\u001b[0m \u001b[43m   \u001b[49m\u001b[43mbuffer_size\u001b[49m\u001b[38;5;241;43m=\u001b[39;49m\u001b[38;5;241;43m100000\u001b[39;49m\u001b[43m,\u001b[49m\n\u001b[1;32m     12\u001b[0m \u001b[43m   \u001b[49m\u001b[43mexploration_final_eps\u001b[49m\u001b[38;5;241;43m=\u001b[39;49m\u001b[38;5;241;43m0.04\u001b[39;49m\u001b[43m,\u001b[49m\n\u001b[1;32m     13\u001b[0m \u001b[43m   \u001b[49m\u001b[43mexploration_fraction\u001b[49m\u001b[38;5;241;43m=\u001b[39;49m\u001b[38;5;241;43m0.16\u001b[39;49m\u001b[43m,\u001b[49m\n\u001b[1;32m     14\u001b[0m \u001b[43m   \u001b[49m\u001b[43mgamma\u001b[49m\u001b[38;5;241;43m=\u001b[39;49m\u001b[38;5;241;43m0.99\u001b[39;49m\u001b[43m,\u001b[49m\n\u001b[1;32m     15\u001b[0m \u001b[43m   \u001b[49m\u001b[43mgradient_steps\u001b[49m\u001b[38;5;241;43m=\u001b[39;49m\u001b[38;5;241;43m128\u001b[39;49m\u001b[43m,\u001b[49m\n\u001b[1;32m     16\u001b[0m \u001b[43m   \u001b[49m\u001b[43mlearning_rate\u001b[49m\u001b[38;5;241;43m=\u001b[39;49m\u001b[38;5;241;43m0.0023\u001b[39;49m\u001b[43m,\u001b[49m\n\u001b[1;32m     17\u001b[0m \u001b[43m   \u001b[49m\u001b[43mlearning_starts\u001b[49m\u001b[38;5;241;43m=\u001b[39;49m\u001b[38;5;241;43m1000\u001b[39;49m\u001b[43m,\u001b[49m\n\u001b[1;32m     18\u001b[0m \u001b[43m   \u001b[49m\u001b[43mpolicy\u001b[49m\u001b[38;5;241;43m=\u001b[39;49m\u001b[38;5;124;43m'\u001b[39;49m\u001b[38;5;124;43mMlpPolicy\u001b[39;49m\u001b[38;5;124;43m'\u001b[39;49m\u001b[43m,\u001b[49m\n\u001b[1;32m     19\u001b[0m \u001b[43m   \u001b[49m\u001b[43mverbose\u001b[49m\u001b[38;5;241;43m=\u001b[39;49m\u001b[38;5;241;43m1\u001b[39;49m\u001b[43m)\u001b[49m\n\u001b[1;32m     21\u001b[0m model\u001b[38;5;241m.\u001b[39mlearn(total_timesteps\u001b[38;5;241m=\u001b[39m\u001b[38;5;241m10_000\u001b[39m, log_interval\u001b[38;5;241m=\u001b[39m\u001b[38;5;241m4\u001b[39m)\n\u001b[1;32m     22\u001b[0m model\u001b[38;5;241m.\u001b[39msave(\u001b[38;5;124m\"\u001b[39m\u001b[38;5;124mqrdqn_cartpole\u001b[39m\u001b[38;5;124m\"\u001b[39m)\n",
      "\u001b[0;31mTypeError\u001b[0m: QRDQN.__init__() got multiple values for argument 'policy'"
     ]
    }
   ],
   "source": [
    "import gymnasium as gym\n",
    "\n",
    "from sb3_contrib import QRDQN\n",
    "\n",
    "env = gym.make(\"CartPole-v1\", render_mode=\"human\")\n",
    "\n",
    "policy_kwargs = dict(n_quantiles=50)\n",
    "model = QRDQN(\n",
    "   env,\n",
    "   batch_size=64,\n",
    "   buffer_size=100000,\n",
    "   exploration_final_eps=0.04,\n",
    "   exploration_fraction=0.16,\n",
    "   gamma=0.99,\n",
    "   gradient_steps=128,\n",
    "   learning_rate=0.0023,\n",
    "   learning_starts=1000,\n",
    "   policy='MlpPolicy',\n",
    "   verbose=1)\n",
    "\n",
    "model.learn(total_timesteps=10_000, log_interval=4)\n",
    "model.save(\"qrdqn_cartpole\")\n",
    "\n",
    "del model # remove to demonstrate saving and loading\n",
    "\n",
    "model = QRDQN.load(\"qrdqn_cartpole\")\n",
    "\n",
    "obs, _ = env.reset()\n",
    "while True:\n",
    "    action, _states = model.predict(obs, deterministic=True)\n",
    "    obs, reward, terminated, truncated, info = env.step(action)\n",
    "    env.render()\n",
    "    if terminated or truncated:\n",
    "      obs, _ = env.reset()"
   ]
  },
  {
   "cell_type": "code",
   "execution_count": null,
   "metadata": {},
   "outputs": [],
   "source": []
  },
  {
   "cell_type": "code",
   "execution_count": null,
   "metadata": {},
   "outputs": [],
   "source": [
    "model.learn(total_timesteps=10_000, log_interval=4)\n",
    "model.save(\"qrdqn_cartpole\")\n",
    "\n",
    "del model # remove to demonstrate saving and loading\n",
    "\n",
    "model = QRDQN.load(\"qrdqn_cartpole\")\n",
    "\n",
    "obs, _ = env.reset()\n",
    "while True:\n",
    "    action, _states = model.predict(obs, deterministic=True)\n",
    "    obs, reward, terminated, truncated, info = env.step(action)\n",
    "    env.render()\n",
    "    if terminated or truncated:\n",
    "      obs, _ = env.reset()"
   ]
  },
  {
   "cell_type": "code",
   "execution_count": null,
   "metadata": {},
   "outputs": [],
   "source": []
  },
  {
   "cell_type": "code",
   "execution_count": null,
   "metadata": {},
   "outputs": [],
   "source": []
  }
 ],
 "metadata": {
  "kernelspec": {
   "display_name": "distrl_proj",
   "language": "python",
   "name": "python3"
  },
  "language_info": {
   "codemirror_mode": {
    "name": "ipython",
    "version": 3
   },
   "file_extension": ".py",
   "mimetype": "text/x-python",
   "name": "python",
   "nbconvert_exporter": "python",
   "pygments_lexer": "ipython3",
   "version": "3.8.19"
  }
 },
 "nbformat": 4,
 "nbformat_minor": 2
}
